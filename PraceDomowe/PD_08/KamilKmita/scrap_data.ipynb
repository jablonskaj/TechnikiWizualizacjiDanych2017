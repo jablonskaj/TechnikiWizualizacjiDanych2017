{
 "cells": [
  {
   "cell_type": "code",
   "execution_count": 217,
   "metadata": {
    "collapsed": true
   },
   "outputs": [],
   "source": [
    "from bs4 import BeautifulSoup\n",
    "import requests\n",
    "import re\n",
    "import pandas as pd\n",
    "import numpy as np"
   ]
  },
  {
   "cell_type": "markdown",
   "metadata": {},
   "source": [
    "# ADRESY STRON\n",
    "przygotuj listę z adresami stron do scrapowania"
   ]
  },
  {
   "cell_type": "code",
   "execution_count": 363,
   "metadata": {
    "collapsed": true
   },
   "outputs": [],
   "source": [
    "adresy = [\n",
    "   \"http://weszlo.com/2017/12/10/paradoks-bjelicy-lech-chorwata-najlepszy-bez-niego-lawce/\"\n",
    "    \"http://weszlo.com/2017/07/15/gornik-wraca-ligi-wysmienitym-stylu-legia-warszawy-bez-punktow/\",\n",
    "    \"http://weszlo.com/2017/07/22/zlatan-burdenski-spolka-urywaja-punkty-legii/\",\n",
    "    \"http://weszlo.com/2017/07/29/legia-wynik-ktory-dalby-awans-astana-tez-styl-ktory-astane-moze-najwyzej-rozbawic/\",\n",
    "    \"http://weszlo.com/2017/08/05/znow-dobry-mecz-przejdzie-tajemnica-bruk-bet-mountain-ciagle-bez-rozwiazania/\",\n",
    "    \"http://weszlo.com/2017/08/11/powody-optymizmu-sa-dzis-legia-wisiala-wlosku/\",\n",
    "    \"http://weszlo.com/2017/08/20/mialo-byc-swieto-wyszedl-lichy-festyn-legia-b-stefanski-zabieraja-punkty-wisle/\",\n",
    "    \"http://weszlo.com/2017/08/27/liga-taki-hit/\",\n",
    "    \"http://weszlo.com/2017/09/09/slask-niezly-legia-slaba-sedziowanie-szkoda-gadac/\",\n",
    "    \"http://weszlo.com/2017/09/17/legia-debiucie-jozaka-bez-zmiany-trzema-punktami/\",\n",
    "    \"http://weszlo.com/2017/09/24/organizatorzy-wpuscili-kibicow-legii-pilkarzy-stadionie-bylo-widac/\",\n",
    "    \"http://weszlo.com/2017/10/01/trzeba-uzyc-lupy-zeby-zobaczyc-legie-zostala-zmiazdzona/\",\n",
    "    \"http://weszlo.com/2017/10/15/swiezosc-niezgody-zalatwila-lechie/\",\n",
    "    \"http://weszlo.com/2017/10/22/trwoga-niezgody-legia-znow-zabiera-cala-pule/\",\n",
    "    \"http://weszlo.com/2017/10/29/legii-wciaz-wielkosci-daleko-dzis-nieco-urosla/\",\n",
    "    \"http://weszlo.com/2017/11/05/legia-punktami-pogon-nadzieja-lepsze-jutro/\",\n",
    "    \"http://weszlo.com/2017/11/19/znow-zrobil-hamalainen-daje-legii-zwyciestwo-hicie/\",\n",
    "    \"http://weszlo.com/2017/11/26/ekstra-futbol-o-ktorym-bedzie-sie-mowilo/\",\n",
    "    \"http://weszlo.com/2017/11/26/ekstra-futbol-o-ktorym-bedzie-sie-mowilo/\",\n",
    "    \"http://weszlo.com/2017/12/02/historia-naszych-oczach-legia-wywozi-niecieczy-punkt/\",\n",
    "    \"http://weszlo.com/2017/12/09/legia-miala-hamalainena-a-bruk-bet-spiaczke-efekt-3-0/\"    \n",
    "]"
   ]
  },
  {
   "cell_type": "markdown",
   "metadata": {},
   "source": [
    "# TABELA"
   ]
  },
  {
   "cell_type": "code",
   "execution_count": 484,
   "metadata": {
    "collapsed": true
   },
   "outputs": [],
   "source": [
    "dane = pd.DataFrame({\n",
    "        \"id_mecz\": [],\n",
    "        \"data\": [],\n",
    "        \"pilkarz\": [],\n",
    "        \"ocena\": [],\n",
    "        \"rywal\": [],\n",
    "        \"wynik\": [],\n",
    "        \"rezultat\": []\n",
    "    })"
   ]
  },
  {
   "cell_type": "code",
   "execution_count": 485,
   "metadata": {
    "collapsed": false
   },
   "outputs": [
    {
     "data": {
      "text/html": [
       "<div>\n",
       "<style scoped>\n",
       "    .dataframe tbody tr th:only-of-type {\n",
       "        vertical-align: middle;\n",
       "    }\n",
       "\n",
       "    .dataframe tbody tr th {\n",
       "        vertical-align: top;\n",
       "    }\n",
       "\n",
       "    .dataframe thead th {\n",
       "        text-align: right;\n",
       "    }\n",
       "</style>\n",
       "<table border=\"1\" class=\"dataframe\">\n",
       "  <thead>\n",
       "    <tr style=\"text-align: right;\">\n",
       "      <th></th>\n",
       "      <th>data</th>\n",
       "      <th>id_mecz</th>\n",
       "      <th>ocena</th>\n",
       "      <th>pilkarz</th>\n",
       "      <th>rezultat</th>\n",
       "      <th>rywal</th>\n",
       "      <th>wynik</th>\n",
       "    </tr>\n",
       "  </thead>\n",
       "  <tbody>\n",
       "  </tbody>\n",
       "</table>\n",
       "</div>"
      ],
      "text/plain": [
       "Empty DataFrame\n",
       "Columns: [data, id_mecz, ocena, pilkarz, rezultat, rywal, wynik]\n",
       "Index: []"
      ]
     },
     "execution_count": 485,
     "metadata": {},
     "output_type": "execute_result"
    }
   ],
   "source": [
    "dane"
   ]
  },
  {
   "cell_type": "markdown",
   "metadata": {},
   "source": [
    "# GŁÓWNA PĘTLA"
   ]
  },
  {
   "cell_type": "markdown",
   "metadata": {},
   "source": [
    "\n",
    "### czek kontrolny"
   ]
  },
  {
   "cell_type": "code",
   "execution_count": 383,
   "metadata": {
    "collapsed": false
   },
   "outputs": [],
   "source": [
    "zupy = []\n",
    "team1_zupy = []\n",
    "team2_zupy = []\n",
    "\n",
    "for adres in range(len(adresy)):\n",
    "    \n",
    "    #pobierz strone\n",
    "    page = requests.get(adresy[adres])    \n",
    "    \n",
    "    #utworz obiekt beautiful soup\n",
    "    soup = BeautifulSoup(page.text, 'html.parser')\n",
    "    \n",
    "    #dodaj do listy\n",
    "    zupy.append(soup)\n",
    "    team1_zupy.append(soup.find_all(attrs={\"class\":\"team top\"})[0])\n",
    "    team2_zupy.append(soup.find_all(attrs={\"class\":\"team bottom\"})[0])\n",
    "    "
   ]
  },
  {
   "cell_type": "markdown",
   "metadata": {},
   "source": [
    "### pętla for"
   ]
  },
  {
   "cell_type": "code",
   "execution_count": 486,
   "metadata": {
    "collapsed": false
   },
   "outputs": [],
   "source": [
    "#for adres in range(len(adresy)):\n",
    "for adres in range(len(adresy)):\n",
    "        \n",
    "\n",
    "    # wez strone, utworz soup || zrobione w pteli wczesniej\n",
    "#     page = requests.get(adresy[adres])    \n",
    "#     soup = BeautifulSoup(page.text, 'html.parser')\n",
    "    \n",
    "    \n",
    "    # calosciowy kod html dla dwoch druzyn || sciagm wartosci z list powyzej\n",
    "#     team1_all = soup.find_all(attrs={\"class\":\"team top\"})[0]\n",
    "#     team2_all = soup.find_all(attrs={\"class\":\"team bottom\"})[0]    \n",
    "    team1_all = team1_zupy[adres]\n",
    "    team2_all = team2_zupy[adres]\n",
    "    \n",
    "    \n",
    "    # nazwy zespolow || zupy trzymamy teraz w liscie `zupy`\n",
    "    \n",
    "#     team1_name_raw = soup.find_all(attrs={\"class\":re.compile(r\"^(team-1)$\")})\n",
    "    team1_name_raw = zupy[adres].find_all(attrs={\"class\":re.compile(r\"^(team-1)$\")})\n",
    "    team1_name = str(team1_name_raw[0].find_all('h3')[0].string)[1:].rstrip()\n",
    "    \n",
    "#     team2_name_raw = soup.find_all(attrs={\"class\":re.compile(r\"^(team-2)$\")})\n",
    "    team2_name_raw = zupy[adres].find_all(attrs={\"class\":re.compile(r\"^(team-2)$\")})\n",
    "    team2_name = str(team2_name_raw[0].find_all('h3')[0].string)[1:].rstrip()\n",
    "    \n",
    "##### if-else: wybieraj tylko jeden z zespolow zaleznie czy jest to Legia\n",
    "\n",
    "    if team1_name.upper().rstrip() == \"LEGIA WARSZAWA\":\n",
    "        team_all = team1_all\n",
    "        team_op = team2_name\n",
    "    else:\n",
    "        team_all = team2_all\n",
    "        team_op = team1_name\n",
    "    \n",
    "    # sciagamy oceny z dwoch zespolow\n",
    "    team_oceny = []\n",
    "    for item in team_all.find_all(attrs={\"class\":\"value\"}):\n",
    "        if len(item.get_attribute_list(\"class\")) == 1:\n",
    "            team_oceny.append(float(item.string))\n",
    "    \n",
    "#     team1_oceny = []\n",
    "#     for item in team1_all.find_all(attrs={\"class\":\"value\"}):\n",
    "#         if len(item.get_attribute_list(\"class\")) == 1:\n",
    "#             team1_oceny.append(float(item.string))\n",
    "            \n",
    "#     team2_oceny = []\n",
    "#     for item in team2_all.find_all(attrs={\"class\":\"value\"}):\n",
    "#         if len(item.get_attribute_list(\"class\")) == 1:\n",
    "#             team2_oceny.append(float(item.string))\n",
    "            \n",
    "            \n",
    "    # nazwiska graczy    \n",
    "    team_names = []\n",
    "#     team1_names = []\n",
    "#     team2_names = []\n",
    "\n",
    "    for item in team_all.find_all(attrs={\"class\":\"name\"}):\n",
    "           team_names.append(item.string)\n",
    "    \n",
    "#     for item in team1_all.find_all(attrs={\"class\":\"name\"}):\n",
    "#            team1_names.append(item.string)\n",
    "            \n",
    "#     for item in team2_all.find_all(attrs={\"class\":\"name\"}):\n",
    "#            team2_names.append(item.string)  \n",
    "                        \n",
    "            \n",
    "    # wynik\n",
    "    wynik_raw = zupy[adres].find_all(attrs={\"class\":\"result\"})\n",
    "    \n",
    "    wynik = []\n",
    "    #rezult = []\n",
    "\n",
    "    for e in wynik_raw:\n",
    "        wynik.append(str(e.string))\n",
    "        \n",
    "    if team1_name.upper().rstrip() == \"LEGIA WARSZAWA\":\n",
    "        \n",
    "        if wynik[0] == wynik[1]:\n",
    "            #rezult.append('remis')\n",
    "            rezult = 'remis'\n",
    "        elif wynik[0] > wynik[1]:\n",
    "            #rezult.append('wygrana')\n",
    "            rezult = 'wygrana'\n",
    "        else:\n",
    "            #rezult.append('przegrana')\n",
    "            rezult = 'przegrana'\n",
    "        \n",
    "        wynik = wynik[0] + ' - ' + wynik[1]\n",
    "        \n",
    "    elif team1_name.upper().rstrip() != \"LEGIA WARSZAWA\":\n",
    "        \n",
    "        if wynik[0] == wynik[1]:\n",
    "#             rezult.append('remis')\n",
    "            rezult = 'remis'\n",
    "        elif wynik[1] > wynik[0]:\n",
    "#             rezult.append('wygrana')\n",
    "            rezult = 'wygrana'\n",
    "        else:\n",
    "#             rezult.append('przegrana')\n",
    "            rezult = 'przegrana'\n",
    "            \n",
    "        wynik = wynik[1] + ' - ' + wynik[0]\n",
    "    #else:\n",
    "        \n",
    "        \n",
    "    # time\n",
    "    time = str(zupy[adres].find_all(attrs={\"class\":\"time\"})[0].string)[1:].rstrip()\n",
    "    \n",
    "    \n",
    "    # team data frames\n",
    "    iter = int(adres+1)\n",
    "    \n",
    "    team_frame = pd.DataFrame({\n",
    "            \"id_mecz\": pd.Series([iter for _ in range(len(team_names))]),\n",
    "            \"data\": pd.Series([time for _ in range(len(team_names))]),\n",
    "            \"pilkarz\": team_names,\n",
    "            \"ocena\": team_oceny,\n",
    "            \"wynik\": pd.Series([wynik for _ in range(len(team_names))]),\n",
    "            #\"druzyna\": pd.Series([team1_name for _ in range(len(team_names))])\n",
    "            \"rywal\": pd.Series([team_op for _ in range(len(team_names))]),\n",
    "            \"rezultat\": pd.Series([rezult for _ in range(len(team_names))])\n",
    "        })\n",
    "    \n",
    "#     team1_frame = pd.DataFrame({\n",
    "#             \"id_mecz\": pd.Series([time for _ in range(len(team1_names))]),\n",
    "#             \"pilkarz\": team1_names,\n",
    "#             \"ocena\": team1_oceny,\n",
    "#             \"wynik\": pd.Series([wynik for _ in range(len(team1_names))]),\n",
    "#             \"druzyna\": pd.Series([team1_name for _ in range(len(team1_names))])\n",
    "#         })\n",
    "    \n",
    "#     team2_frame = pd.DataFrame({\n",
    "#             \"id_mecz\": pd.Series([time for _ in range(len(team2_names))]),\n",
    "#             \"pilkarz\": team2_names,\n",
    "#             \"ocena\": team2_oceny,\n",
    "#             \"wynik\": pd.Series([wynik for _ in range(len(team2_names))]),\n",
    "#             \"druzyna\": pd.Series([team2_name for _ in range(len(team2_names))])\n",
    "#         })\n",
    "    \n",
    "    # dodaje dane\n",
    "    dane = dane.append(team_frame)\n",
    "#     dane = dane.append(team1_frame)\n",
    "#     dane = dane.append(team2_frame)"
   ]
  },
  {
   "cell_type": "markdown",
   "metadata": {},
   "source": [
    "# zapis do `csv`"
   ]
  },
  {
   "cell_type": "code",
   "execution_count": 487,
   "metadata": {
    "collapsed": true
   },
   "outputs": [],
   "source": [
    "dane.to_csv(\"legia.csv\", index = False)"
   ]
  },
  {
   "cell_type": "markdown",
   "metadata": {},
   "source": [
    "# slownik pilkarzy"
   ]
  },
  {
   "cell_type": "code",
   "execution_count": 488,
   "metadata": {
    "collapsed": false
   },
   "outputs": [
    {
     "data": {
      "text/plain": [
       "array(['C. Guilherme', 'A. Hlousek', 'A. Jędrzejczyk', 'A. Malarz',\n",
       "       'T. Moulin', 'D. Nagy', 'M. Dąbrowski', 'Ł. Broź', 'K. Hamalainen',\n",
       "       'M. Kopczyński', 'M. Szwoch', 'M. Pazdan', 'J. Czerwiński',\n",
       "       'S. Szymański', 'A. Sadiku', 'M. Kucharczyk', 'K. Mączyński',\n",
       "       'C. Pasquato', 'D. Chima Chukwu', 'T. Jodłowiec', 'R. Cierzniak',\n",
       "       'H. Pereira', 'I. Astiz', 'J. Niezgoda'], dtype=object)"
      ]
     },
     "execution_count": 488,
     "metadata": {},
     "output_type": "execute_result"
    }
   ],
   "source": [
    "dane.pilkarz.unique()"
   ]
  },
  {
   "cell_type": "code",
   "execution_count": 489,
   "metadata": {
    "collapsed": false
   },
   "outputs": [],
   "source": [
    "kat = np.array(['pomoc', 'obrona', 'obrona', 'bramka',\n",
    "         'pomoc', 'pomoc', 'obrona', 'obrona', 'pomoc',\n",
    "         'pomoc', 'pomoc', 'obrona', 'obrona', \n",
    "         'pomoc', 'atak', 'pomoc', 'pomoc', \n",
    "         'pomoc', 'atak', 'pomoc', 'bramka',\n",
    "         'pomoc', 'obrona', 'atak'])"
   ]
  },
  {
   "cell_type": "code",
   "execution_count": 490,
   "metadata": {
    "collapsed": false
   },
   "outputs": [],
   "source": [
    "slownik = pd.DataFrame({\"pilkarz\": dane.pilkarz.unique(), \"pozycja\":pd.Series(kat)})"
   ]
  },
  {
   "cell_type": "markdown",
   "metadata": {},
   "source": [
    "# join"
   ]
  },
  {
   "cell_type": "code",
   "execution_count": 491,
   "metadata": {
    "collapsed": false
   },
   "outputs": [],
   "source": [
    "danejoin = dane.merge(right = slownik, how = 'left', on = 'pilkarz')"
   ]
  },
  {
   "cell_type": "code",
   "execution_count": 492,
   "metadata": {
    "collapsed": false
   },
   "outputs": [
    {
     "data": {
      "text/html": [
       "<div>\n",
       "<style scoped>\n",
       "    .dataframe tbody tr th:only-of-type {\n",
       "        vertical-align: middle;\n",
       "    }\n",
       "\n",
       "    .dataframe tbody tr th {\n",
       "        vertical-align: top;\n",
       "    }\n",
       "\n",
       "    .dataframe thead th {\n",
       "        text-align: right;\n",
       "    }\n",
       "</style>\n",
       "<table border=\"1\" class=\"dataframe\">\n",
       "  <thead>\n",
       "    <tr style=\"text-align: right;\">\n",
       "      <th></th>\n",
       "      <th>data</th>\n",
       "      <th>id_mecz</th>\n",
       "      <th>ocena</th>\n",
       "      <th>pilkarz</th>\n",
       "      <th>rezultat</th>\n",
       "      <th>rywal</th>\n",
       "      <th>wynik</th>\n",
       "      <th>pozycja</th>\n",
       "    </tr>\n",
       "  </thead>\n",
       "  <tbody>\n",
       "    <tr>\n",
       "      <th>0</th>\n",
       "      <td>15-07-2017</td>\n",
       "      <td>1.0</td>\n",
       "      <td>2.0</td>\n",
       "      <td>C. Guilherme</td>\n",
       "      <td>przegrana</td>\n",
       "      <td>Górnik Zabrze</td>\n",
       "      <td>1 - 3</td>\n",
       "      <td>pomoc</td>\n",
       "    </tr>\n",
       "    <tr>\n",
       "      <th>1</th>\n",
       "      <td>15-07-2017</td>\n",
       "      <td>1.0</td>\n",
       "      <td>3.0</td>\n",
       "      <td>A. Hlousek</td>\n",
       "      <td>przegrana</td>\n",
       "      <td>Górnik Zabrze</td>\n",
       "      <td>1 - 3</td>\n",
       "      <td>obrona</td>\n",
       "    </tr>\n",
       "    <tr>\n",
       "      <th>2</th>\n",
       "      <td>15-07-2017</td>\n",
       "      <td>1.0</td>\n",
       "      <td>2.0</td>\n",
       "      <td>A. Jędrzejczyk</td>\n",
       "      <td>przegrana</td>\n",
       "      <td>Górnik Zabrze</td>\n",
       "      <td>1 - 3</td>\n",
       "      <td>obrona</td>\n",
       "    </tr>\n",
       "    <tr>\n",
       "      <th>3</th>\n",
       "      <td>15-07-2017</td>\n",
       "      <td>1.0</td>\n",
       "      <td>5.0</td>\n",
       "      <td>A. Malarz</td>\n",
       "      <td>przegrana</td>\n",
       "      <td>Górnik Zabrze</td>\n",
       "      <td>1 - 3</td>\n",
       "      <td>bramka</td>\n",
       "    </tr>\n",
       "    <tr>\n",
       "      <th>4</th>\n",
       "      <td>15-07-2017</td>\n",
       "      <td>1.0</td>\n",
       "      <td>5.0</td>\n",
       "      <td>T. Moulin</td>\n",
       "      <td>przegrana</td>\n",
       "      <td>Górnik Zabrze</td>\n",
       "      <td>1 - 3</td>\n",
       "      <td>pomoc</td>\n",
       "    </tr>\n",
       "  </tbody>\n",
       "</table>\n",
       "</div>"
      ],
      "text/plain": [
       "         data  id_mecz  ocena         pilkarz   rezultat          rywal  \\\n",
       "0  15-07-2017      1.0    2.0    C. Guilherme  przegrana  Górnik Zabrze   \n",
       "1  15-07-2017      1.0    3.0      A. Hlousek  przegrana  Górnik Zabrze   \n",
       "2  15-07-2017      1.0    2.0  A. Jędrzejczyk  przegrana  Górnik Zabrze   \n",
       "3  15-07-2017      1.0    5.0       A. Malarz  przegrana  Górnik Zabrze   \n",
       "4  15-07-2017      1.0    5.0       T. Moulin  przegrana  Górnik Zabrze   \n",
       "\n",
       "   wynik pozycja  \n",
       "0  1 - 3   pomoc  \n",
       "1  1 - 3  obrona  \n",
       "2  1 - 3  obrona  \n",
       "3  1 - 3  bramka  \n",
       "4  1 - 3   pomoc  "
      ]
     },
     "execution_count": 492,
     "metadata": {},
     "output_type": "execute_result"
    }
   ],
   "source": [
    "danejoin.head(5)"
   ]
  },
  {
   "cell_type": "code",
   "execution_count": 494,
   "metadata": {
    "collapsed": true
   },
   "outputs": [],
   "source": [
    "danejoin.to_csv(\"danejoin.csv\", index = False)"
   ]
  },
  {
   "cell_type": "code",
   "execution_count": null,
   "metadata": {
    "collapsed": true
   },
   "outputs": [],
   "source": []
  }
 ],
 "metadata": {
  "anaconda-cloud": {},
  "kernelspec": {
   "display_name": "Python [conda root]",
   "language": "python",
   "name": "conda-root-py"
  },
  "language_info": {
   "codemirror_mode": {
    "name": "ipython",
    "version": 3
   },
   "file_extension": ".py",
   "mimetype": "text/x-python",
   "name": "python",
   "nbconvert_exporter": "python",
   "pygments_lexer": "ipython3",
   "version": "3.5.2"
  }
 },
 "nbformat": 4,
 "nbformat_minor": 1
}
