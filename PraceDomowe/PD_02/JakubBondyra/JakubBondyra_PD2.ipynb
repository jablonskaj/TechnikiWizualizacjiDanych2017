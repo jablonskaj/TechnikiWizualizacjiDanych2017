{
 "cells": [
  {
   "cell_type": "markdown",
   "metadata": {},
   "source": [
    "# Praca domowa 2"
   ]
  },
  {
   "cell_type": "markdown",
   "metadata": {},
   "source": [
    "## Jakub Bondyra"
   ]
  },
  {
   "cell_type": "markdown",
   "metadata": {},
   "source": [
    "W tej pracy domowej obiektem mojego zainteresowania były dane dotyczące ofiar wojny domowej w Syrii, trwającej od 2011 roku do chwili obecnej. Syryjskie Obserwatorium Praw Człowieka na swojej stronie niemalże codziennie raportuje o liczbie ludzi zabitych w zeszłym dniu. W tym celu, spisałem (ręcznie) liczby zabitych z ostatnich czterdziestu dni (okres od 1 września do 9 października). W tym dokumencie na samym początku koryguję dane i wprowadzam kilka pomocniczych atrybutów, a następnie wizualizuję wyniki na stosownym wykresie. Dane zaczerpnąłem ze strony http://www.syriahr.com/en/?cat=44."
   ]
  },
  {
   "cell_type": "code",
   "execution_count": 6,
   "metadata": {
    "collapsed": true,
    "scrolled": true
   },
   "outputs": [],
   "source": [
    "syria = read.table(\"syria.txt\",sep=\" \",header=TRUE)"
   ]
  },
  {
   "cell_type": "markdown",
   "metadata": {},
   "source": [
    "Wygląd danych"
   ]
  },
  {
   "cell_type": "code",
   "execution_count": 7,
   "metadata": {
    "scrolled": true
   },
   "outputs": [
    {
     "data": {
      "text/html": [
       "<table>\n",
       "<thead><tr><th scope=col>deaths</th><th scope=col>regime</th><th scope=col>civilians</th><th scope=col>day</th><th scope=col>month</th></tr></thead>\n",
       "<tbody>\n",
       "\t<tr><td> 88</td><td> 14</td><td> 10</td><td> 9 </td><td>10 </td></tr>\n",
       "\t<tr><td> 98</td><td> 43</td><td> 36</td><td> 8 </td><td>10 </td></tr>\n",
       "\t<tr><td> 91</td><td> 37</td><td> 10</td><td> 7 </td><td>10 </td></tr>\n",
       "\t<tr><td>132</td><td> 41</td><td> 22</td><td> 6 </td><td>10 </td></tr>\n",
       "\t<tr><td>159</td><td> 41</td><td> 56</td><td> 5 </td><td>10 </td></tr>\n",
       "\t<tr><td> 77</td><td>  4</td><td> 65</td><td> 4 </td><td>10 </td></tr>\n",
       "\t<tr><td>168</td><td> 33</td><td> 30</td><td> 3 </td><td>10 </td></tr>\n",
       "\t<tr><td>111</td><td> 49</td><td> 25</td><td> 2 </td><td>10 </td></tr>\n",
       "\t<tr><td>155</td><td> 55</td><td> 40</td><td> 1 </td><td>10 </td></tr>\n",
       "\t<tr><td> 56</td><td>  9</td><td> 35</td><td>30 </td><td> 9 </td></tr>\n",
       "\t<tr><td>303</td><td> 85</td><td>120</td><td>29 </td><td> 9 </td></tr>\n",
       "\t<tr><td>173</td><td>112</td><td> 17</td><td>28 </td><td> 9 </td></tr>\n",
       "\t<tr><td> 35</td><td> 11</td><td> 10</td><td>27 </td><td> 9 </td></tr>\n",
       "\t<tr><td> 55</td><td>  9</td><td> 32</td><td>26 </td><td> 9 </td></tr>\n",
       "\t<tr><td>187</td><td> 10</td><td> 84</td><td>25 </td><td> 9 </td></tr>\n",
       "\t<tr><td> 62</td><td> 21</td><td> 15</td><td>24 </td><td> 9 </td></tr>\n",
       "\t<tr><td> 84</td><td> 39</td><td>  5</td><td>23 </td><td> 9 </td></tr>\n",
       "\t<tr><td> -1</td><td> -1</td><td> -1</td><td>22 </td><td> 9 </td></tr>\n",
       "\t<tr><td> 36</td><td>  7</td><td> 15</td><td>21 </td><td> 9 </td></tr>\n",
       "\t<tr><td>130</td><td> 15</td><td> 53</td><td>20 </td><td> 9 </td></tr>\n",
       "\t<tr><td> -1</td><td> -1</td><td> -1</td><td>19 </td><td> 9 </td></tr>\n",
       "\t<tr><td> 42</td><td>  7</td><td> 15</td><td>18 </td><td> 9 </td></tr>\n",
       "\t<tr><td> 60</td><td> 10</td><td> 15</td><td>17 </td><td> 9 </td></tr>\n",
       "\t<tr><td> 72</td><td>  7</td><td> 40</td><td>16 </td><td> 9 </td></tr>\n",
       "\t<tr><td> -1</td><td> -1</td><td> -1</td><td>15 </td><td> 9 </td></tr>\n",
       "\t<tr><td> 80</td><td>  6</td><td> 60</td><td>14 </td><td> 9 </td></tr>\n",
       "\t<tr><td> 28</td><td>  7</td><td> 10</td><td>13 </td><td> 9 </td></tr>\n",
       "\t<tr><td> 61</td><td>  6</td><td> 30</td><td>12 </td><td> 9 </td></tr>\n",
       "\t<tr><td>105</td><td>  8</td><td> 70</td><td>11 </td><td> 9 </td></tr>\n",
       "\t<tr><td>109</td><td> 28</td><td> 50</td><td>10 </td><td> 9 </td></tr>\n",
       "\t<tr><td>158</td><td> 35</td><td> 20</td><td> 9 </td><td> 9 </td></tr>\n",
       "\t<tr><td> -1</td><td> -1</td><td> -1</td><td> 8 </td><td> 9 </td></tr>\n",
       "\t<tr><td> -1</td><td> -1</td><td> -1</td><td> 7 </td><td> 9 </td></tr>\n",
       "\t<tr><td>145</td><td> 44</td><td> 29</td><td> 6 </td><td> 9 </td></tr>\n",
       "\t<tr><td> 96</td><td> 25</td><td> 32</td><td> 5 </td><td> 9 </td></tr>\n",
       "\t<tr><td> 86</td><td> 14</td><td> 36</td><td> 4 </td><td> 9 </td></tr>\n",
       "\t<tr><td> 96</td><td> 10</td><td> 53</td><td> 3 </td><td> 9 </td></tr>\n",
       "\t<tr><td>187</td><td> 43</td><td> 24</td><td> 2 </td><td> 9 </td></tr>\n",
       "\t<tr><td> 53</td><td> 11</td><td> 20</td><td> 1 </td><td> 9 </td></tr>\n",
       "</tbody>\n",
       "</table>\n"
      ],
      "text/latex": [
       "\\begin{tabular}{r|lllll}\n",
       " deaths & regime & civilians & day & month\\\\\n",
       "\\hline\n",
       "\t  88 &  14 &  10 &  9  & 10 \\\\\n",
       "\t  98 &  43 &  36 &  8  & 10 \\\\\n",
       "\t  91 &  37 &  10 &  7  & 10 \\\\\n",
       "\t 132 &  41 &  22 &  6  & 10 \\\\\n",
       "\t 159 &  41 &  56 &  5  & 10 \\\\\n",
       "\t  77 &   4 &  65 &  4  & 10 \\\\\n",
       "\t 168 &  33 &  30 &  3  & 10 \\\\\n",
       "\t 111 &  49 &  25 &  2  & 10 \\\\\n",
       "\t 155 &  55 &  40 &  1  & 10 \\\\\n",
       "\t  56 &   9 &  35 & 30  &  9 \\\\\n",
       "\t 303 &  85 & 120 & 29  &  9 \\\\\n",
       "\t 173 & 112 &  17 & 28  &  9 \\\\\n",
       "\t  35 &  11 &  10 & 27  &  9 \\\\\n",
       "\t  55 &   9 &  32 & 26  &  9 \\\\\n",
       "\t 187 &  10 &  84 & 25  &  9 \\\\\n",
       "\t  62 &  21 &  15 & 24  &  9 \\\\\n",
       "\t  84 &  39 &   5 & 23  &  9 \\\\\n",
       "\t  -1 &  -1 &  -1 & 22  &  9 \\\\\n",
       "\t  36 &   7 &  15 & 21  &  9 \\\\\n",
       "\t 130 &  15 &  53 & 20  &  9 \\\\\n",
       "\t  -1 &  -1 &  -1 & 19  &  9 \\\\\n",
       "\t  42 &   7 &  15 & 18  &  9 \\\\\n",
       "\t  60 &  10 &  15 & 17  &  9 \\\\\n",
       "\t  72 &   7 &  40 & 16  &  9 \\\\\n",
       "\t  -1 &  -1 &  -1 & 15  &  9 \\\\\n",
       "\t  80 &   6 &  60 & 14  &  9 \\\\\n",
       "\t  28 &   7 &  10 & 13  &  9 \\\\\n",
       "\t  61 &   6 &  30 & 12  &  9 \\\\\n",
       "\t 105 &   8 &  70 & 11  &  9 \\\\\n",
       "\t 109 &  28 &  50 & 10  &  9 \\\\\n",
       "\t 158 &  35 &  20 &  9  &  9 \\\\\n",
       "\t  -1 &  -1 &  -1 &  8  &  9 \\\\\n",
       "\t  -1 &  -1 &  -1 &  7  &  9 \\\\\n",
       "\t 145 &  44 &  29 &  6  &  9 \\\\\n",
       "\t  96 &  25 &  32 &  5  &  9 \\\\\n",
       "\t  86 &  14 &  36 &  4  &  9 \\\\\n",
       "\t  96 &  10 &  53 &  3  &  9 \\\\\n",
       "\t 187 &  43 &  24 &  2  &  9 \\\\\n",
       "\t  53 &  11 &  20 &  1  &  9 \\\\\n",
       "\\end{tabular}\n"
      ],
      "text/markdown": [
       "\n",
       "deaths | regime | civilians | day | month | \n",
       "|---|---|---|---|---|---|---|---|---|---|---|---|---|---|---|---|---|---|---|---|---|---|---|---|---|---|---|---|---|---|---|---|---|---|---|---|---|---|---|\n",
       "|  88 |  14 |  10 |  9  | 10  | \n",
       "|  98 |  43 |  36 |  8  | 10  | \n",
       "|  91 |  37 |  10 |  7  | 10  | \n",
       "| 132 |  41 |  22 |  6  | 10  | \n",
       "| 159 |  41 |  56 |  5  | 10  | \n",
       "|  77 |   4 |  65 |  4  | 10  | \n",
       "| 168 |  33 |  30 |  3  | 10  | \n",
       "| 111 |  49 |  25 |  2  | 10  | \n",
       "| 155 |  55 |  40 |  1  | 10  | \n",
       "|  56 |   9 |  35 | 30  |  9  | \n",
       "| 303 |  85 | 120 | 29  |  9  | \n",
       "| 173 | 112 |  17 | 28  |  9  | \n",
       "|  35 |  11 |  10 | 27  |  9  | \n",
       "|  55 |   9 |  32 | 26  |  9  | \n",
       "| 187 |  10 |  84 | 25  |  9  | \n",
       "|  62 |  21 |  15 | 24  |  9  | \n",
       "|  84 |  39 |   5 | 23  |  9  | \n",
       "|  -1 |  -1 |  -1 | 22  |  9  | \n",
       "|  36 |   7 |  15 | 21  |  9  | \n",
       "| 130 |  15 |  53 | 20  |  9  | \n",
       "|  -1 |  -1 |  -1 | 19  |  9  | \n",
       "|  42 |   7 |  15 | 18  |  9  | \n",
       "|  60 |  10 |  15 | 17  |  9  | \n",
       "|  72 |   7 |  40 | 16  |  9  | \n",
       "|  -1 |  -1 |  -1 | 15  |  9  | \n",
       "|  80 |   6 |  60 | 14  |  9  | \n",
       "|  28 |   7 |  10 | 13  |  9  | \n",
       "|  61 |   6 |  30 | 12  |  9  | \n",
       "| 105 |   8 |  70 | 11  |  9  | \n",
       "| 109 |  28 |  50 | 10  |  9  | \n",
       "| 158 |  35 |  20 |  9  |  9  | \n",
       "|  -1 |  -1 |  -1 |  8  |  9  | \n",
       "|  -1 |  -1 |  -1 |  7  |  9  | \n",
       "| 145 |  44 |  29 |  6  |  9  | \n",
       "|  96 |  25 |  32 |  5  |  9  | \n",
       "|  86 |  14 |  36 |  4  |  9  | \n",
       "|  96 |  10 |  53 |  3  |  9  | \n",
       "| 187 |  43 |  24 |  2  |  9  | \n",
       "|  53 |  11 |  20 |  1  |  9  | \n",
       "\n",
       "\n"
      ],
      "text/plain": [
       "   deaths regime civilians day month\n",
       "1   88     14     10        9  10   \n",
       "2   98     43     36        8  10   \n",
       "3   91     37     10        7  10   \n",
       "4  132     41     22        6  10   \n",
       "5  159     41     56        5  10   \n",
       "6   77      4     65        4  10   \n",
       "7  168     33     30        3  10   \n",
       "8  111     49     25        2  10   \n",
       "9  155     55     40        1  10   \n",
       "10  56      9     35       30   9   \n",
       "11 303     85    120       29   9   \n",
       "12 173    112     17       28   9   \n",
       "13  35     11     10       27   9   \n",
       "14  55      9     32       26   9   \n",
       "15 187     10     84       25   9   \n",
       "16  62     21     15       24   9   \n",
       "17  84     39      5       23   9   \n",
       "18  -1     -1     -1       22   9   \n",
       "19  36      7     15       21   9   \n",
       "20 130     15     53       20   9   \n",
       "21  -1     -1     -1       19   9   \n",
       "22  42      7     15       18   9   \n",
       "23  60     10     15       17   9   \n",
       "24  72      7     40       16   9   \n",
       "25  -1     -1     -1       15   9   \n",
       "26  80      6     60       14   9   \n",
       "27  28      7     10       13   9   \n",
       "28  61      6     30       12   9   \n",
       "29 105      8     70       11   9   \n",
       "30 109     28     50       10   9   \n",
       "31 158     35     20        9   9   \n",
       "32  -1     -1     -1        8   9   \n",
       "33  -1     -1     -1        7   9   \n",
       "34 145     44     29        6   9   \n",
       "35  96     25     32        5   9   \n",
       "36  86     14     36        4   9   \n",
       "37  96     10     53        3   9   \n",
       "38 187     43     24        2   9   \n",
       "39  53     11     20        1   9   "
      ]
     },
     "metadata": {},
     "output_type": "display_data"
    }
   ],
   "source": [
    "syria"
   ]
  },
  {
   "cell_type": "markdown",
   "metadata": {},
   "source": [
    "- Atrybuty *day*, *month* odpowiadają za datę\n",
    "- Atrybut *deaths* jest liczbą udokumentowanych ofiar poległych w danym dniu\n",
    "- Atrybut *regime* jest liczbą udokumentowanych ofiar wojsk rządowych (\"reżimowych\"), poległych w danym dniu\n",
    "- Atrybut *civilians* odpowiada za liczbę zabitych cywili."
   ]
  },
  {
   "cell_type": "markdown",
   "metadata": {},
   "source": [
    "W dniach 7, 8, 15, 19 i 22 września nie było stosownych raportów, zatem estymuję wartości w tych dniach poprzez zastosowanie średnich."
   ]
  },
  {
   "cell_type": "code",
   "execution_count": null,
   "metadata": {
    "scrolled": false
   },
   "outputs": [],
   "source": [
    "library(dplyr)"
   ]
  },
  {
   "cell_type": "code",
   "execution_count": 9,
   "metadata": {
    "collapsed": true
   },
   "outputs": [],
   "source": [
    "death_mean = syria %>% filter(month==9) %>% select (deaths) %>% unlist %>% mean %>% as.integer\n",
    "civ_mean = syria %>% filter(month==9) %>% select (civilians) %>% unlist %>%  mean %>% as.integer\n",
    "reg_mean = syria %>% filter(month==9) %>% select (regime) %>% unlist %>% mean %>% as.integer"
   ]
  },
  {
   "cell_type": "code",
   "execution_count": 10,
   "metadata": {
    "collapsed": true
   },
   "outputs": [],
   "source": [
    "#uzupełnianie pustych miejsc\n",
    "syria$deaths[syria$deaths==-1] = death_mean\n",
    "syria$civilians[syria$civilians==-1] = civ_mean\n",
    "syria$regime[syria$regime==-1] = reg_mean"
   ]
  },
  {
   "cell_type": "markdown",
   "metadata": {},
   "source": [
    "Na wykresie naniesiona jest również średnia dzienna liczba zgonów podczas wojny (źródło: http://www.syriahr.com/en/?p=70012)"
   ]
  },
  {
   "cell_type": "code",
   "execution_count": 11,
   "metadata": {
    "collapsed": true
   },
   "outputs": [],
   "source": [
    "deaths_overall = 331765\n",
    "days_overall = 2315\n",
    "death_overall_mean = as.integer(deaths_overall/days_overall)"
   ]
  },
  {
   "cell_type": "code",
   "execution_count": 12,
   "metadata": {
    "scrolled": true
   },
   "outputs": [
    {
     "data": {
      "text/html": [
       "143"
      ],
      "text/latex": [
       "143"
      ],
      "text/markdown": [
       "143"
      ],
      "text/plain": [
       "[1] 143"
      ]
     },
     "metadata": {},
     "output_type": "display_data"
    }
   ],
   "source": [
    "#tyle osób codziennie ginie w wojnie\n",
    "death_overall_mean"
   ]
  },
  {
   "cell_type": "code",
   "execution_count": 13,
   "metadata": {
    "collapsed": true
   },
   "outputs": [],
   "source": [
    "library(ggplot2)"
   ]
  },
  {
   "cell_type": "markdown",
   "metadata": {},
   "source": [
    "Daty na oś OX"
   ]
  },
  {
   "cell_type": "code",
   "execution_count": 14,
   "metadata": {
    "collapsed": true
   },
   "outputs": [],
   "source": [
    "default_labels = c(\"01/09\",\"08/09\",\"15/09\",\"23/09\",\"30/09\",\"09/10\")\n",
    "default_breaks = c(271,278,285,293,300,309) #wartości id"
   ]
  },
  {
   "cell_type": "markdown",
   "metadata": {},
   "source": [
    "Funkcja pomocnicza"
   ]
  },
  {
   "cell_type": "code",
   "execution_count": 15,
   "metadata": {
    "collapsed": true
   },
   "outputs": [],
   "source": [
    "date_to_id = function (month,day){\n",
    "    return (month*30+day) #uzyskanie id z daty i miesiąca\n",
    "}"
   ]
  },
  {
   "cell_type": "markdown",
   "metadata": {},
   "source": [
    "Wprowadzam atrybut *other* - czyli liczbę zabitych osób nieprzynależących do wojsk rządowych ani cywilów. Chodzi tutaj o bojowników ISIS, żołnierzy rosyjskich, rebeliantów i Kurdów."
   ]
  },
  {
   "cell_type": "code",
   "execution_count": 16,
   "metadata": {},
   "outputs": [],
   "source": [
    "syria$other = syria$deaths-syria$civilians-syria$regime"
   ]
  },
  {
   "cell_type": "markdown",
   "metadata": {},
   "source": [
    "Wprowadzenie unikalnych ID na oś OX - do wizualizacji"
   ]
  },
  {
   "cell_type": "code",
   "execution_count": 17,
   "metadata": {
    "collapsed": true
   },
   "outputs": [],
   "source": [
    "syria$id_plot = date_to_id(syria$month,syria$day) #uzyskanie id dla ramki"
   ]
  },
  {
   "cell_type": "markdown",
   "metadata": {},
   "source": [
    "Rozwijanie ramki, by móc stworzyć stosownego barplota"
   ]
  },
  {
   "cell_type": "code",
   "execution_count": 74,
   "metadata": {
    "collapsed": true
   },
   "outputs": [],
   "source": [
    "library(reshape2)\n",
    "syriam = melt(syria[,c(\"regime\",\"civilians\",\"other\",\"id_plot\")],id=\"id_plot\")"
   ]
  },
  {
   "cell_type": "code",
   "execution_count": 65,
   "metadata": {},
   "outputs": [
    {
     "data": {
      "text/html": [
       "<table>\n",
       "<thead><tr><th scope=col>id_plot</th><th scope=col>variable</th><th scope=col>value</th></tr></thead>\n",
       "<tbody>\n",
       "\t<tr><td>309   </td><td>regime</td><td>14    </td></tr>\n",
       "\t<tr><td>308   </td><td>regime</td><td>43    </td></tr>\n",
       "\t<tr><td>307   </td><td>regime</td><td>37    </td></tr>\n",
       "\t<tr><td>306   </td><td>regime</td><td>41    </td></tr>\n",
       "\t<tr><td>305   </td><td>regime</td><td>41    </td></tr>\n",
       "\t<tr><td>304   </td><td>regime</td><td> 4    </td></tr>\n",
       "</tbody>\n",
       "</table>\n"
      ],
      "text/latex": [
       "\\begin{tabular}{r|lll}\n",
       " id\\_plot & variable & value\\\\\n",
       "\\hline\n",
       "\t 309    & regime & 14    \\\\\n",
       "\t 308    & regime & 43    \\\\\n",
       "\t 307    & regime & 37    \\\\\n",
       "\t 306    & regime & 41    \\\\\n",
       "\t 305    & regime & 41    \\\\\n",
       "\t 304    & regime &  4    \\\\\n",
       "\\end{tabular}\n"
      ],
      "text/markdown": [
       "\n",
       "id_plot | variable | value | \n",
       "|---|---|---|---|---|---|\n",
       "| 309    | regime | 14     | \n",
       "| 308    | regime | 43     | \n",
       "| 307    | regime | 37     | \n",
       "| 306    | regime | 41     | \n",
       "| 305    | regime | 41     | \n",
       "| 304    | regime |  4     | \n",
       "\n",
       "\n"
      ],
      "text/plain": [
       "  id_plot variable value\n",
       "1 309     regime   14   \n",
       "2 308     regime   43   \n",
       "3 307     regime   37   \n",
       "4 306     regime   41   \n",
       "5 305     regime   41   \n",
       "6 304     regime    4   "
      ]
     },
     "metadata": {},
     "output_type": "display_data"
    }
   ],
   "source": [
    "head(syriam)"
   ]
  },
  {
   "cell_type": "markdown",
   "metadata": {},
   "source": [
    "Estymacje w dniach 7, 8, 15, 19 i 22 września będę chciał zaznaczyć innymi kolorami, zatem muszę zmienić nazwy niektórych wartości zmiennej variable."
   ]
  },
  {
   "cell_type": "code",
   "execution_count": 75,
   "metadata": {},
   "outputs": [],
   "source": [
    "syriam$tmpid = 1:nrow(syriam)"
   ]
  },
  {
   "cell_type": "code",
   "execution_count": 76,
   "metadata": {
    "scrolled": true
   },
   "outputs": [
    {
     "data": {
      "text/html": [
       "<table>\n",
       "<thead><tr><th scope=col>id_plot</th><th scope=col>variable</th><th scope=col>value</th><th scope=col>tmpid</th></tr></thead>\n",
       "<tbody>\n",
       "\t<tr><td>309   </td><td>regime</td><td>14    </td><td>1     </td></tr>\n",
       "\t<tr><td>308   </td><td>regime</td><td>43    </td><td>2     </td></tr>\n",
       "\t<tr><td>307   </td><td>regime</td><td>37    </td><td>3     </td></tr>\n",
       "\t<tr><td>306   </td><td>regime</td><td>41    </td><td>4     </td></tr>\n",
       "\t<tr><td>305   </td><td>regime</td><td>41    </td><td>5     </td></tr>\n",
       "\t<tr><td>304   </td><td>regime</td><td> 4    </td><td>6     </td></tr>\n",
       "</tbody>\n",
       "</table>\n"
      ],
      "text/latex": [
       "\\begin{tabular}{r|llll}\n",
       " id\\_plot & variable & value & tmpid\\\\\n",
       "\\hline\n",
       "\t 309    & regime & 14     & 1     \\\\\n",
       "\t 308    & regime & 43     & 2     \\\\\n",
       "\t 307    & regime & 37     & 3     \\\\\n",
       "\t 306    & regime & 41     & 4     \\\\\n",
       "\t 305    & regime & 41     & 5     \\\\\n",
       "\t 304    & regime &  4     & 6     \\\\\n",
       "\\end{tabular}\n"
      ],
      "text/markdown": [
       "\n",
       "id_plot | variable | value | tmpid | \n",
       "|---|---|---|---|---|---|\n",
       "| 309    | regime | 14     | 1      | \n",
       "| 308    | regime | 43     | 2      | \n",
       "| 307    | regime | 37     | 3      | \n",
       "| 306    | regime | 41     | 4      | \n",
       "| 305    | regime | 41     | 5      | \n",
       "| 304    | regime |  4     | 6      | \n",
       "\n",
       "\n"
      ],
      "text/plain": [
       "  id_plot variable value tmpid\n",
       "1 309     regime   14    1    \n",
       "2 308     regime   43    2    \n",
       "3 307     regime   37    3    \n",
       "4 306     regime   41    4    \n",
       "5 305     regime   41    5    \n",
       "6 304     regime    4    6    "
      ]
     },
     "metadata": {},
     "output_type": "display_data"
    }
   ],
   "source": [
    "head(syriam)"
   ]
  },
  {
   "cell_type": "code",
   "execution_count": 77,
   "metadata": {
    "collapsed": true
   },
   "outputs": [],
   "source": [
    "levels(syriam$variable) = c(\"regime\",\"civilians\",\"other\",\"regime_est\",\"civilians_est\",\"other_est\")"
   ]
  },
  {
   "cell_type": "code",
   "execution_count": 78,
   "metadata": {},
   "outputs": [],
   "source": [
    "affected_id_reg = unlist(syriam %>% filter(id_plot %in% c(277,278,285,289,292)) \n",
    "                         %>% filter(variable==\"regime\") %>% select(tmpid))\n",
    "affected_id_civ = unlist(syriam %>% filter(id_plot %in% c(277,278,285,289,292)) \n",
    "                         %>% filter(variable==\"civilians\") %>% select(tmpid))\n",
    "affected_id_oth = unlist(syriam %>% filter(id_plot %in% c(277,278,285,289,292)) \n",
    "                         %>% filter(variable==\"other\") %>% select(tmpid))\n",
    "\n",
    "syriam[affected_id_reg,2] = rep(\"regime_est\",length(affected_id_reg))\n",
    "syriam[affected_id_civ,2] = rep(\"civilians_est\",length(affected_id_reg))\n",
    "syriam[affected_id_oth,2] = rep(\"other_est\",length(affected_id_reg))"
   ]
  },
  {
   "cell_type": "markdown",
   "metadata": {},
   "source": [
    "## Wizualizacja"
   ]
  },
  {
   "cell_type": "code",
   "execution_count": 79,
   "metadata": {
    "collapsed": true
   },
   "outputs": [],
   "source": [
    "library(ggthemes)"
   ]
  },
  {
   "cell_type": "code",
   "execution_count": 87,
   "metadata": {},
   "outputs": [
    {
     "data": {},
     "metadata": {},
     "output_type": "display_data"
    },
    {
     "data": {
      "image/png": "[encoded data removed]",
      "text/plain": [
       "plot without title"
      ]
     },
     "metadata": {},
     "output_type": "display_data"
    }
   ],
   "source": [
    "ggplot(data=syriam,aes(id_plot,value,fill=variable)) +\n",
    "scale_fill_manual(labels=c(\"Government military\",\"Civilians\",\"Others - ISIS, russian, kurdish etc.\",\n",
    "                           \"Government military (estimation)\",\"Civilians (estimation)\", \"Others (estimation)\"),\n",
    "                  values=c(\"lightcoral\",\"cornflowerblue\",\"snow3\",\"coral4\",\"dodgerblue4\",\"snow4\"))+\n",
    "guides(fill=guide_legend(title=\"Casualties' categories\"))+\n",
    "scale_x_continuous(breaks = default_breaks,\n",
    "                  labels=default_labels,lim=c(270,310))+\n",
    "scale_y_continuous(breaks=c(25,50,75,100,140,200,300))+\n",
    "geom_bar(stat=\"identity\")+\n",
    "xlab(\"Date\")+ylab(\"Number of deaths\")+\n",
    "labs(title=\"Syrian Civil War casualties in the last 40 days (2017)\")+\n",
    "geom_hline(yintercept=death_overall_mean,linetype=2)+\n",
    "annotate(\"text\",x=285,y=death_overall_mean+5,size=3,label=c('Daily death mean'))"
   ]
  }
 ],
 "metadata": {
  "kernelspec": {
   "display_name": "R",
   "language": "R",
   "name": "ir"
  },
  "language_info": {
   "codemirror_mode": "r",
   "file_extension": ".r",
   "mimetype": "text/x-r-source",
   "name": "R",
   "pygments_lexer": "r",
   "version": "3.4.1"
  }
 },
 "nbformat": 4,
 "nbformat_minor": 2
}
