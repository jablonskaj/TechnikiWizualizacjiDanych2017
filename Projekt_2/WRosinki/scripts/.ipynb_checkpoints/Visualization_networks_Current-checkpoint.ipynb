{
 "cells": [
  {
   "cell_type": "code",
   "execution_count": 6,
   "metadata": {
    "scrolled": true
   },
   "outputs": [],
   "source": [
    "import itertools\n",
    "import time\n",
    "import cmocean\n",
    "\n",
    "import matplotlib.pyplot as plt\n",
    "import numpy as np\n",
    "import pandas as pd\n",
    "import seaborn as sns\n",
    "import plotly.plotly as py\n",
    "import networkx as nx\n",
    "\n",
    "from nltk.corpus import stopwords\n",
    "from bokeh.sampledata.autompg import autompg\n",
    "from bokeh.models import LinearColorMapper, ColorBar\n",
    "from bokeh.palettes import Viridis256\n",
    "from bokeh.plotting import figure, save\n",
    "from bokeh.models import ColumnDataSource, LabelSet, HoverTool, mappers\n",
    "from bokeh.io import output_notebook, show\n",
    "from bokeh.transform import factor_cmap\n",
    "from bokeh import palettes\n",
    "from plotly.graph_objs import *\n",
    "\n",
    "from utils_lotr import *\n",
    "\n",
    "\n",
    "%matplotlib inline\n",
    "plt.rcParams['figure.figsize'] = 12, 8\n",
    "plt.style.use('ggplot')"
   ]
  },
  {
   "cell_type": "code",
   "execution_count": 7,
   "metadata": {},
   "outputs": [],
   "source": [
    "def cmocean_to_plotly(cmap, pl_entries):\n",
    "    h = 1.0/(pl_entries-1)\n",
    "    pl_colorscale = []\n",
    "    \n",
    "    for k in range(pl_entries):\n",
    "        C = list(map(np.uint8, np.array(cmap(k*h)[:3])*255))\n",
    "        pl_colorscale.append([k*h, 'rgb'+str((C[0], C[1], C[2]))])\n",
    "        \n",
    "    return pl_colorscale"
   ]
  },
  {
   "cell_type": "code",
   "execution_count": 2,
   "metadata": {
    "scrolled": true
   },
   "outputs": [],
   "source": [
    "scrape = False\n",
    "save = False\n",
    "base_url = 'http://www.tk421.net/lotr/film/'\n",
    "\n",
    "\n",
    "n_top_words = 7\n",
    "n_topics = 15\n",
    "n_iter = 500\n",
    "tsne_components = 2\n",
    "tsne_perplexity = 20\n",
    "\n",
    "vect_mode = 'Count'\n",
    "transform_mode = 'LDA'\n",
    "threshold_confidence = True\n",
    "threshold = 0.5\n",
    "\n",
    "cv_params = {\n",
    "    'stop_words': 'english', \n",
    "    'min_df': 2, \n",
    "    'max_df': 0.9,\n",
    "    'ngram_range': (1,3),\n",
    "    'analyzer': 'word',\n",
    "}\n",
    "\n",
    "stops = set(stopwords.words('english'))"
   ]
  },
  {
   "cell_type": "code",
   "execution_count": 3,
   "metadata": {
    "scrolled": true
   },
   "outputs": [
    {
     "name": "stdout",
     "output_type": "stream",
     "text": [
      "LoTR transcripts scraped, time it took: 0.450\n",
      "Interactions computed, time it took: 13.997\n"
     ]
    },
    {
     "name": "stderr",
     "output_type": "stream",
     "text": [
      "/home/w/anaconda3/envs/idp3/lib/python3.6/site-packages/sklearn/decomposition/online_lda.py:294: DeprecationWarning:\n",
      "\n",
      "n_topics has been renamed to n_components in version 0.19 and will be removed in 0.21\n",
      "\n",
      "/home/w/anaconda3/envs/idp3/lib/python3.6/site-packages/sklearn/decomposition/online_lda.py:536: DeprecationWarning:\n",
      "\n",
      "The default value for 'learning_method' will be changed from 'online' to 'batch' in the release 0.20. This warning was introduced in 0.18.\n",
      "\n"
     ]
    },
    {
     "name": "stdout",
     "output_type": "stream",
     "text": [
      "LDA transformation done, time it took: 6.790\n"
     ]
    }
   ],
   "source": [
    "script_subsets = scrape_lotr(base_url, scrape, save)\n",
    "df = clean_transcript(script_subsets)\n",
    "df.drop_duplicates(['text'], inplace=True)\n",
    "\n",
    "df = lowercase(df)\n",
    "df = remove_stops(df, stops)\n",
    "df['text'] = df.text.apply(lambda x: ' '.join(x))\n",
    "df['character'] = df.character.apply(lambda x: ' '.join(x))\n",
    "\n",
    "df_interactions, interact_matrix = get_interactions_df(df)\n",
    "\n",
    "\n",
    "X_topics, reducer, cv = transform_text_data(df, n_topics, cv_params, \n",
    "                                            vect_mode=vect_mode,\n",
    "                                            transform_mode=transform_mode)"
   ]
  },
  {
   "cell_type": "code",
   "execution_count": 4,
   "metadata": {},
   "outputs": [
    {
     "name": "stdout",
     "output_type": "stream",
     "text": [
      "Interactions computed, time it took: 14.105\n"
     ]
    }
   ],
   "source": [
    "df_interactions, interact_matrix = get_interactions_df(df)\n",
    "\n",
    "\n",
    "df_interactions['character1'] = df_interactions.apply(lambda x: x['characters'].split('_')[0], axis=1)\n",
    "df_interactions['character2'] = df_interactions.apply(lambda x: x['characters'].split('_')[1], axis=1)\n",
    "df_interactions.reset_index(inplace=True, drop=True)\n",
    "\n",
    "\n",
    "characters = df.character.unique()\n",
    "\n",
    "df_inter_group = df_interactions.groupby('character1').sum()\n",
    "df_inter_group.num_interactions.fillna(0, inplace=True)\n",
    "df_inter_group['character'] = df_inter_group.index\n",
    "df_inter_group2 = df_interactions.groupby('character2').sum()\n",
    "df_inter_group2.num_interactions.fillna(0, inplace=True)\n",
    "df_inter_group2['character'] = df_inter_group2.index\n",
    "df_inter_group_full = df_inter_group.merge(df_inter_group2, on='character', how='outer')\n",
    "df_inter_group_full['num_interactions'] = df_inter_group_full.num_interactions_x.values + df_inter_group_full.num_interactions_y.values\n",
    "df_inter_group_full['num_interactions'] = df_inter_group_full.max(axis=1)\n",
    "df_inter_group_full = df_inter_group_full[df_inter_group_full.character != 'narrator']\n",
    "\n",
    "df_inter_narrator = df_interactions[df_interactions.character1 == 'narrator']\n",
    "\n",
    "df_inter_highest_group = df_inter_group_full[df_inter_group_full.num_interactions >= 5].reset_index(\n",
    "    drop=True).sort_values('num_interactions', ascending=False).reset_index(drop=True)\n",
    "\n",
    "\n",
    "N = df_inter_highest_group.character.nunique()\n",
    "popular_chars = df_inter_highest_group.character.unique()"
   ]
  },
  {
   "cell_type": "code",
   "execution_count": 9,
   "metadata": {
    "scrolled": false
   },
   "outputs": [
    {
     "data": {
      "text/html": [
       "<iframe id=\"igraph\" scrolling=\"no\" style=\"border:none;\" seamless=\"seamless\" src=\"https://plot.ly/~Wrosinski/91.embed\" height=\"900px\" width=\"1200px\"></iframe>"
      ],
      "text/plain": [
       "<plotly.tools.PlotlyDisplay object>"
      ]
     },
     "execution_count": 9,
     "metadata": {},
     "output_type": "execute_result"
    }
   ],
   "source": [
    "dfclean = df[df.character.isin(popular_chars)]\n",
    "dfn = get_network_interactions_df(dfclean)\n",
    "\n",
    "dfn.drop(['target'], axis=1, inplace=True)\n",
    "s = dfn.apply(lambda x: pd.Series(x['targets']),axis=1).stack().reset_index(level=1, drop=True)\n",
    "s.name = 'target'\n",
    "dfn = dfn.drop('targets', axis=1).join(s)\n",
    "\n",
    "G = nx.from_pandas_dataframe(dfn, 'character', 'target', ['text'])\n",
    "pos=nx.kamada_kawai_layout(G) \n",
    "nx.set_node_attributes(G, pos, 'pos')\n",
    "\n",
    "max_len = len(G.nodes())\n",
    "matter = cmocean_to_plotly(cmocean.cm.matter, max_len)\n",
    "\n",
    "\n",
    "dmin=1\n",
    "ncenter=0\n",
    "for n in pos:\n",
    "    x,y=pos[n]\n",
    "    d=(x-0.5)**2+(y-0.5)**2\n",
    "    if d<dmin:\n",
    "        ncenter=n\n",
    "        dmin=d\n",
    "\n",
    "edge_trace = Scatter(\n",
    "    x=[],\n",
    "    y=[],\n",
    "    line=Line(width=0.5,color='#888'),\n",
    "    hoverinfo='character',\n",
    "    mode='lines')\n",
    "\n",
    "for edge in G.edges():\n",
    "    x0, y0 = G.node[edge[0]]['pos']\n",
    "    x1, y1 = G.node[edge[1]]['pos']\n",
    "    edge_trace['x'] += [x0, x1, None]\n",
    "    edge_trace['y'] += [y0, y1, None]\n",
    "\n",
    "node_trace = Scatter(\n",
    "    x=[],\n",
    "    y=[],\n",
    "    text=[],\n",
    "    mode='markers',\n",
    "    hoverinfo='text',\n",
    "    marker=Marker(\n",
    "        showscale=True,\n",
    "        # colorscale options\n",
    "        # 'Greys' | 'Greens' | 'Bluered' | 'Hot' | 'Picnic' | 'Portland' |\n",
    "        # Jet' | 'RdBu' | 'Blackbody' | 'Earth' | 'Electric' | 'YIOrRd' | 'YIGnBu'\n",
    "        colorscale=matter,\n",
    "        reversescale=True,\n",
    "        color=[],\n",
    "        size=[],\n",
    "        opacity=0.95,\n",
    "        colorbar=dict(\n",
    "            thickness=15,\n",
    "            title='Node Connections',\n",
    "            xanchor='left',\n",
    "            titleside='right'\n",
    "        ),\n",
    "        line=dict(width=2)))\n",
    "\n",
    "char_list = []\n",
    "for node in G.nodes():\n",
    "    x, y = G.node[node]['pos']\n",
    "    node_trace['x'].append(x)\n",
    "    node_trace['y'].append(y)\n",
    "    char_list.append(node)\n",
    "    \n",
    "for node, adjacencies in G.adjacency():\n",
    "    node_trace['marker']['color'].append(len(adjacencies))\n",
    "    node_trace['marker']['size'].append(len(adjacencies))\n",
    "    node_info = '{} - number of connections: {}'.format(node, str(len(adjacencies)))\n",
    "    node_trace['text'].append(node_info)\n",
    "\n",
    "\n",
    "fig = Figure(data=Data([edge_trace, node_trace]),\n",
    "             layout=Layout(\n",
    "                title='Lord of the Rings Connections Graph',\n",
    "                titlefont=dict(size=18),\n",
    "                showlegend=False,\n",
    "                hovermode='closest',\n",
    "                margin=dict(b=20,l=5,r=5,t=40),\n",
    "                annotations=[ dict(\n",
    "                    showarrow=False,\n",
    "                    xref=\"paper\", yref=\"paper\",\n",
    "                    x=0.005, y=-0.002 ) ],\n",
    "                xaxis=XAxis(showgrid=False, zeroline=False, showticklabels=False),\n",
    "                yaxis=YAxis(showgrid=False, zeroline=False, showticklabels=False),\n",
    "             autosize=False,\n",
    "             width=1200,\n",
    "             height=900))\n",
    "\n",
    "\n",
    "py.iplot(fig, filename='LotrNetworkX_V22')"
   ]
  }
 ],
 "metadata": {
  "kernelspec": {
   "display_name": "Python 3",
   "language": "python",
   "name": "python3"
  },
  "language_info": {
   "codemirror_mode": {
    "name": "ipython",
    "version": 3
   },
   "file_extension": ".py",
   "mimetype": "text/x-python",
   "name": "python",
   "nbconvert_exporter": "python",
   "pygments_lexer": "ipython3",
   "version": "3.6.3"
  }
 },
 "nbformat": 4,
 "nbformat_minor": 2
}
